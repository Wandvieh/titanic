{
 "cells": [
  {
   "cell_type": "markdown",
   "metadata": {},
   "source": [
    "# Titanic dataset: Least Squares Linear Regression\n",
    "\n",
    "First step: Imports and data"
   ]
  },
  {
   "cell_type": "code",
   "execution_count": 2,
   "metadata": {},
   "outputs": [
    {
     "name": "stdout",
     "output_type": "stream",
     "text": [
      "(891, 12)\n",
      "Index(['PassengerId', 'Survived', 'Pclass', 'Name', 'Sex', 'Age', 'SibSp',\n",
      "       'Parch', 'Ticket', 'Fare', 'Cabin', 'Embarked'],\n",
      "      dtype='object')\n",
      "PassengerId      int64\n",
      "Survived         int64\n",
      "Pclass           int64\n",
      "Name            object\n",
      "Sex             object\n",
      "Age            float64\n",
      "SibSp            int64\n",
      "Parch            int64\n",
      "Ticket          object\n",
      "Fare           float64\n",
      "Cabin           object\n",
      "Embarked        object\n",
      "dtype: object\n",
      "Missing rows in PassengerId: 0\n",
      "Missing rows in Survived: 0\n",
      "Missing rows in Pclass: 0\n",
      "Missing rows in Name: 0\n",
      "Missing rows in Sex: 0\n",
      "Missing rows in Age: 177\n",
      "Missing rows in SibSp: 0\n",
      "Missing rows in Parch: 0\n",
      "Missing rows in Ticket: 0\n",
      "Missing rows in Fare: 0\n",
      "Missing rows in Cabin: 687\n",
      "Missing rows in Embarked: 2\n",
      "       PassengerId    Survived      Pclass         Age       SibSp  \\\n",
      "count   891.000000  891.000000  891.000000  714.000000  891.000000   \n",
      "mean    446.000000    0.383838    2.308642   29.699118    0.523008   \n",
      "std     257.353842    0.486592    0.836071   14.526497    1.102743   \n",
      "min       1.000000    0.000000    1.000000    0.420000    0.000000   \n",
      "25%     223.500000    0.000000    2.000000   20.125000    0.000000   \n",
      "50%     446.000000    0.000000    3.000000   28.000000    0.000000   \n",
      "75%     668.500000    1.000000    3.000000   38.000000    1.000000   \n",
      "max     891.000000    1.000000    3.000000   80.000000    8.000000   \n",
      "\n",
      "            Parch        Fare  \n",
      "count  891.000000  891.000000  \n",
      "mean     0.381594   32.204208  \n",
      "std      0.806057   49.693429  \n",
      "min      0.000000    0.000000  \n",
      "25%      0.000000    7.910400  \n",
      "50%      0.000000   14.454200  \n",
      "75%      0.000000   31.000000  \n",
      "max      6.000000  512.329200  \n"
     ]
    }
   ],
   "source": [
    "import pandas as pd\n",
    "import numpy as np\n",
    "import statsmodels.api as sm\n",
    "from ISLP.models import (ModelSpec as MS, summarize, poly)\n",
    "import seaborn as sns\n",
    "from matplotlib import pyplot as plt\n",
    "from sklearn.model_selection import \\\n",
    "     (cross_validate,\n",
    "      KFold)\n",
    "from ISLP.models import sklearn_sm\n",
    "\n",
    "df = pd.read_csv(\"../train.csv\")\n",
    "print(df.shape)\n",
    "print(df.columns)\n",
    "print(df.dtypes)\n",
    "for col in df.columns:\n",
    "    print(\"Missing rows in {0}:\".format(col), df[col].shape[0] - df[col].count())\n",
    "print(df.describe())\n",
    "\n",
    "\n",
    "y = df['Survived']"
   ]
  },
  {
   "cell_type": "markdown",
   "metadata": {},
   "source": [
    "## Simple Linear Regression\n",
    "\n",
    "Linear regression on every possible variable.\n",
    "For that, I have to convert 'Sex' and 'Embarked' to a categorical value. It would also be interesting to convert Cabin, although there are many missing rows. Here, I only convert the first letter of the cabin (always a letter) into its corresponding number (A=1 etc.)"
   ]
  },
  {
   "cell_type": "code",
   "execution_count": 3,
   "metadata": {},
   "outputs": [
    {
     "name": "stdout",
     "output_type": "stream",
     "text": [
      "0       NaN\n",
      "1       C85\n",
      "2       NaN\n",
      "3      C123\n",
      "4       NaN\n",
      "       ... \n",
      "886     NaN\n",
      "887     B42\n",
      "888     NaN\n",
      "889    C148\n",
      "890     NaN\n",
      "Name: Cabin, Length: 891, dtype: object\n",
      "Missing rows in Embarked: 687\n",
      "[nan 'C85' 'C123' 'E46' 'G6' 'C103' 'D56' 'A6' 'C23 C25 C27' 'B78' 'D33'\n",
      " 'B30' 'C52' 'B28' 'C83' 'F33' 'F G73' 'E31' 'A5' 'D10 D12' 'D26' 'C110'\n",
      " 'B58 B60' 'E101' 'F E69' 'D47' 'B86' 'F2' 'C2' 'E33' 'B19' 'A7' 'C49'\n",
      " 'F4' 'A32' 'B4' 'B80' 'A31' 'D36' 'D15' 'C93' 'C78' 'D35' 'C87' 'B77'\n",
      " 'E67' 'B94' 'C125' 'C99' 'C118' 'D7' 'A19' 'B49' 'D' 'C22 C26' 'C106'\n",
      " 'C65' 'E36' 'C54' 'B57 B59 B63 B66' 'C7' 'E34' 'C32' 'B18' 'C124' 'C91'\n",
      " 'E40' 'T' 'C128' 'D37' 'B35' 'E50' 'C82' 'B96 B98' 'E10' 'E44' 'A34'\n",
      " 'C104' 'C111' 'C92' 'E38' 'D21' 'E12' 'E63' 'A14' 'B37' 'C30' 'D20' 'B79'\n",
      " 'E25' 'D46' 'B73' 'C95' 'B38' 'B39' 'B22' 'C86' 'C70' 'A16' 'C101' 'C68'\n",
      " 'A10' 'E68' 'B41' 'A20' 'D19' 'D50' 'D9' 'A23' 'B50' 'A26' 'D48' 'E58'\n",
      " 'C126' 'B71' 'B51 B53 B55' 'D49' 'B5' 'B20' 'F G63' 'C62 C64' 'E24' 'C90'\n",
      " 'C45' 'E8' 'B101' 'D45' 'C46' 'D30' 'E121' 'D11' 'E77' 'F38' 'B3' 'D6'\n",
      " 'B82 B84' 'D17' 'A36' 'B102' 'B69' 'E49' 'C47' 'D28' 'E17' 'A24' 'C50'\n",
      " 'B42' 'C148']\n",
      "[3 1 2]\n",
      "[nan 'C' 'E' 'G' 'D' 'A' 'B' 'F' 'T']\n",
      "[nan  3.  5.  7.  4.  1.  2.  6. 20.]\n"
     ]
    }
   ],
   "source": [
    "print(df['Cabin'])\n",
    "print(\"Missing rows in {0}:\".format(col), df['Cabin'].shape[0] - df['Cabin'].count())\n",
    "\n",
    "print(df['Cabin'].unique())\n",
    "print(df['Pclass'].unique())\n",
    "\n",
    "df['CabinLetter'] = df.Cabin.str[:1]\n",
    "print(df['CabinLetter'].unique())\n",
    "new_column = []\n",
    "for line in df.CabinLetter:\n",
    "    try:\n",
    "      new_column.append(ord(line) - 64)\n",
    "    except: new_column.append(line)\n",
    "df.CabinLetter = new_column\n",
    "print(df['CabinLetter'].unique())"
   ]
  },
  {
   "cell_type": "code",
   "execution_count": 4,
   "metadata": {},
   "outputs": [
    {
     "name": "stdout",
     "output_type": "stream",
     "text": [
      "PassengerId       int64\n",
      "Survived          int64\n",
      "Pclass            int64\n",
      "Name             object\n",
      "Sex            category\n",
      "Age             float64\n",
      "SibSp             int64\n",
      "Parch             int64\n",
      "Ticket           object\n",
      "Fare            float64\n",
      "Cabin            object\n",
      "Embarked       category\n",
      "CabinLetter     float64\n",
      "SexNr              int8\n",
      "dtype: object\n"
     ]
    }
   ],
   "source": [
    "df['Sex'] = df['Sex'].astype('category')\n",
    "df['Embarked'] = df['Embarked'].astype('category')\n",
    "df['SexNr'] = df['Sex'].cat.codes\n",
    "print(df.dtypes)"
   ]
  },
  {
   "cell_type": "code",
   "execution_count": 5,
   "metadata": {},
   "outputs": [
    {
     "name": "stdout",
     "output_type": "stream",
     "text": [
      "Modell für PassengerId:\n",
      "                  coef   std err       t  P>|t|\n",
      "intercept    0.388100  0.033000  11.886  0.000\n",
      "PassengerId -0.000009  0.000063  -0.149  0.881\n",
      "Rsquared: 2.5066652036165316e-05\n",
      "Modell für Pclass:\n",
      "              coef  std err       t  P>|t|\n",
      "intercept  0.8386    0.045  18.597    0.0\n",
      "Pclass    -0.1970    0.018 -10.725    0.0\n",
      "Rsquared: 0.11456941170524171\n",
      "Modell für Age:\n",
      "              coef  std err       t  P>|t|\n",
      "intercept  0.4838    0.042  11.576  0.000\n",
      "Age       -0.0026    0.001  -2.067  0.039\n",
      "Rsquared: 0.005963097446925136\n",
      "Modell für Sex:\n",
      "              coef  std err       t  P>|t|\n",
      "intercept  0.7420    0.023  32.171    0.0\n",
      "Sex[male] -0.5531    0.029 -19.298    0.0\n",
      "Rsquared: 0.2952307228626888\n",
      "Modell für SibSp:\n",
      "              coef  std err       t  P>|t|\n",
      "intercept  0.3920    0.018  21.726  0.000\n",
      "SibSp     -0.0156    0.015  -1.054  0.292\n",
      "Rsquared: 0.001247678927532081\n",
      "Modell für Parch:\n",
      "              coef  std err       t  P>|t|\n",
      "intercept  0.3650    0.018  20.294  0.000\n",
      "Parch      0.0493    0.020   2.442  0.015\n",
      "Rsquared: 0.006663360100801152\n",
      "Modell für Fare:\n",
      "              coef  std err       t  P>|t|\n",
      "intercept  0.3027    0.019  16.114    0.0\n",
      "Fare       0.0025    0.000   7.939    0.0\n",
      "Rsquared: 0.06620664646184304\n",
      "Modell für CabinLetter:\n",
      "                coef  std err      t  P>|t|\n",
      "intercept    0.6931    0.070  9.868   0.00\n",
      "CabinLetter -0.0077    0.018 -0.427   0.67\n",
      "Rsquared: 0.0009008501773553057\n",
      "Modell für Embarked:\n",
      "                coef  std err       t  P>|t|\n",
      "intercept    0.5588    0.037  15.198   0.00\n",
      "Embarked[Q] -0.1692    0.066  -2.569   0.01\n",
      "Embarked[S] -0.2219    0.041  -5.367   0.00\n",
      "Rsquared: 0.03143107601295392\n"
     ]
    }
   ],
   "source": [
    "def abline(ax, b, m, *args, **kwargs):\n",
    "    \"Add a line with slope m and intercept b to ax\"\n",
    "    xlim = ax.get_xlim()\n",
    "    ylim = [m * xlim[0] + b, m * xlim[1] + b]\n",
    "    ax.plot(xlim, ylim, *args, **kwargs)\n",
    "\n",
    "\n",
    "for column in ['PassengerId', 'Pclass', 'Age', 'Sex', 'SibSp', 'Parch', 'Fare', 'CabinLetter', 'Embarked']:\n",
    "    X = MS([column]).fit_transform(df)\n",
    "    model = sm.OLS(y,X, missing='drop') # ordinary least squares model\n",
    "    results = model.fit()\n",
    "    print(\"Modell für {0}:\\n\".format(column), summarize(results))\n",
    "    print(\"Rsquared:\", results.rsquared)\n",
    "\n",
    "    #ax = df.plot.scatter(column, \"Survived\")\n",
    "    #abline(ax, results.params[0], results.params[1], 'r--', linewidth=3)"
   ]
  },
  {
   "cell_type": "markdown",
   "metadata": {},
   "source": [
    "Statistically important are 'Pclass', 'Age', 'Sex', 'Parch', 'Fare' and 'Embarked'\n",
    "\n",
    "The next step is\n",
    "\n",
    "## Multiple Linear Regression\n",
    "\n",
    "First of all, on all of the possible columns at once to see where the results differ"
   ]
  },
  {
   "cell_type": "code",
   "execution_count": 6,
   "metadata": {},
   "outputs": [
    {
     "name": "stdout",
     "output_type": "stream",
     "text": [
      "               coef  std err      t  P>|t|\n",
      "intercept    1.1622    0.161  7.217  0.000\n",
      "PassengerId  0.0003    0.000  2.143  0.033\n",
      "Pclass      -0.0599    0.069 -0.871  0.385\n",
      "Age         -0.0063    0.002 -3.068  0.002\n",
      "Sex[male]   -0.4627    0.059 -7.895  0.000\n",
      "SibSp        0.0378    0.049  0.773  0.441\n",
      "Parch       -0.0562    0.044 -1.270  0.206\n",
      "Fare         0.0001    0.000  0.309  0.758\n",
      "CabinLetter -0.0083    0.017 -0.473  0.637\n",
      "Embarked[Q] -0.2577    0.284 -0.906  0.366\n",
      "Embarked[S] -0.0614    0.065 -0.944  0.347\n",
      "Rsquared: 0.35534821852700416\n"
     ]
    }
   ],
   "source": [
    "X_2 = MS(['PassengerId', 'Pclass', 'Age', 'Sex', 'SibSp', 'Parch', 'Fare', 'CabinLetter', 'Embarked']).fit_transform(df)\n",
    "model_2 = sm.OLS(y,X_2, missing = 'drop')\n",
    "results = model_2.fit()\n",
    "print(summarize(results))\n",
    "print(\"Rsquared:\", results.rsquared)"
   ]
  },
  {
   "cell_type": "markdown",
   "metadata": {},
   "source": [
    "The results are a bit different. 'Pclass', 'Age' and 'Sex' are still important. 'Parch', 'Fare' and 'Embarked' have become unimportant. 'SibSp' has become important.\n",
    "\n",
    "I want to see whether that can be explained with a correlation matrix."
   ]
  },
  {
   "cell_type": "code",
   "execution_count": 7,
   "metadata": {},
   "outputs": [
    {
     "data": {
      "text/plain": [
       "<Axes: >"
      ]
     },
     "execution_count": 7,
     "metadata": {},
     "output_type": "execute_result"
    },
    {
     "data": {
      "image/png": "[encoded data removed]",
      "text/plain": [
       "<Figure size 1200x800 with 2 Axes>"
      ]
     },
     "metadata": {},
     "output_type": "display_data"
    }
   ],
   "source": [
    "df_2 = df.drop(['Name', 'Ticket', 'Cabin', 'Sex', 'Embarked'], axis=1)\n",
    "corr = df_2.corr()\n",
    "plt.figure(figsize=(12,8))\n",
    "sns.heatmap(corr, cmap=\"Greens\", annot=True)"
   ]
  },
  {
   "cell_type": "markdown",
   "metadata": {},
   "source": [
    "The important correlations are: 'SibSp' and 'Parch' (0.41), 'Fare' and 'Pclass' (-0.55). So Parch might just have been a surrogate for Parch (although that can't be the full truth, since Parch was not significant in the simple linear regression). It is highly likely though that Fare was just a surrogate for Pclass. We don't know the deal about 'Embarked', since it's a categorical value.\n",
    "\n",
    "Also interesting: Though not statistically significant, I could show that CabinLetter and Pclass are correlated (0.46). This means the booked room numbers correlate with their Pclass. This MIGHT be interesting - were it not for the fact that Cabin has too many missing values for it to be useful.\n",
    "\n",
    "First, I want to see whether there is a difference if I completely drop the columns with several missing values (Age and Cabin):"
   ]
  },
  {
   "cell_type": "code",
   "execution_count": 8,
   "metadata": {},
   "outputs": [
    {
     "name": "stdout",
     "output_type": "stream",
     "text": [
      "                coef  std err       t  P>|t|\n",
      "intercept    1.09740  0.06300  17.371  0.000\n",
      "PassengerId  0.00001  0.00005   0.194  0.846\n",
      "Pclass      -0.13790  0.02000  -7.052  0.000\n",
      "Sex[male]   -0.51920  0.02900 -18.165  0.000\n",
      "SibSp       -0.03030  0.01300  -2.307  0.021\n",
      "Parch       -0.00920  0.01800  -0.498  0.619\n",
      "Fare         0.00030  0.00000   1.039  0.299\n",
      "Embarked[Q] -0.02430  0.05600  -0.434  0.664\n",
      "Embarked[S] -0.07340  0.03500  -2.103  0.036\n",
      "Rsquared: 0.37805984769131595\n"
     ]
    }
   ],
   "source": [
    "X_2 = MS(['PassengerId', 'Pclass', 'Sex', 'SibSp', 'Parch', 'Fare', 'Embarked']).fit_transform(df)\n",
    "model_2 = sm.OLS(y,X_2, missing = 'drop')\n",
    "results = model_2.fit()\n",
    "print(summarize(results))\n",
    "print(\"Rsquared:\", results.rsquared)"
   ]
  },
  {
   "cell_type": "markdown",
   "metadata": {},
   "source": [
    "Does not seem to make a difference. Only that Rsquared is up by 2%.\n",
    "\n",
    "With all that in mind, I will drop variables from the multiple regression now until they are all significant. I will do this one by one (backward selection)."
   ]
  },
  {
   "cell_type": "code",
   "execution_count": 9,
   "metadata": {},
   "outputs": [
    {
     "name": "stdout",
     "output_type": "stream",
     "text": [
      "             coef  std err       t  P>|t|\n",
      "intercept  1.3966    0.066  21.287  0.000\n",
      "Pclass    -0.2053    0.019 -10.937  0.000\n",
      "Age       -0.0066    0.001  -5.839  0.000\n",
      "Sex[male] -0.4865    0.031 -15.937  0.000\n",
      "SibSp     -0.0545    0.016  -3.359  0.001\n",
      "Rsquared: 0.39971845026903496\n"
     ]
    }
   ],
   "source": [
    "X_2 = MS(['Pclass', 'Age', 'Sex', 'SibSp']).fit_transform(df)\n",
    "model_2 = sm.OLS(y,X_2, missing='drop')\n",
    "results = model_2.fit()\n",
    "print(summarize(results))\n",
    "print(\"Rsquared:\", results.rsquared)"
   ]
  },
  {
   "cell_type": "markdown",
   "metadata": {},
   "source": [
    "Significant are:\n",
    "- Pclass\n",
    "- Age\n",
    "- Sex\n",
    "- SibSp\n",
    "\n",
    "Rsquared is at 0.400.\n",
    "\n",
    "## Linear Regression with interaction\n",
    "\n",
    "What if I were to include interaction sets? First of all, I will integrate (Age,Sex), (Pclass,Age) and (SibSp,Parch).\n",
    "Then I'll try out the rest. Although I will leave out cabin because of too many missing values."
   ]
  },
  {
   "cell_type": "code",
   "execution_count": 10,
   "metadata": {},
   "outputs": [
    {
     "name": "stdout",
     "output_type": "stream",
     "text": [
      "               coef  std err      t  P>|t|\n",
      "intercept    1.2495    0.129  9.662  0.000\n",
      "Pclass      -0.1764    0.047 -3.764  0.000\n",
      "Age         -0.0015    0.003 -0.474  0.636\n",
      "SexNr       -0.2910    0.067 -4.320  0.000\n",
      "SibSp       -0.0255    0.028 -0.900  0.369\n",
      "Parch        0.0068    0.023  0.298  0.766\n",
      "Fare         0.0001    0.000  0.427  0.670\n",
      "Embarked[Q] -0.0949    0.082 -1.159  0.247\n",
      "Embarked[S] -0.0652    0.040 -1.642  0.101\n",
      "Age:SexNr   -0.0066    0.002 -3.200  0.001\n",
      "Pclass:Age  -0.0003    0.001 -0.235  0.814\n",
      "SibSp:Parch -0.0249    0.020 -1.270  0.204\n",
      "0.4137961039816449\n"
     ]
    }
   ],
   "source": [
    "\n",
    "X_3 = MS(['Pclass', 'Age', 'SexNr', 'SibSp', 'Parch', 'Fare', 'Embarked']).fit_transform(df) # ('Age','SexNr'),('Pclass','Age'),('SibSp','Parch')\n",
    "X_3['Age:SexNr'] = df['Age'] * df['SexNr']\n",
    "X_3['Pclass:Age'] = df['Pclass'] * df['Age']\n",
    "X_3['SibSp:Parch'] = df['SibSp'] * df['Parch']\n",
    "#print(X_3)\n",
    "model_3 = sm.OLS(y,X_3, missing = 'drop')\n",
    "results = model_3.fit()\n",
    "print(summarize(results))\n",
    "print(results.rsquared)"
   ]
  },
  {
   "cell_type": "markdown",
   "metadata": {},
   "source": [
    "First results: (Age,Sex) is the only significant one of those three, and it also makes Age non-significant. The rest is not significant.\n",
    "Next, I will include all other interaction terms except for Embarked."
   ]
  },
  {
   "cell_type": "code",
   "execution_count": 11,
   "metadata": {},
   "outputs": [
    {
     "name": "stdout",
     "output_type": "stream",
     "text": [
      "                  coef   std err      t  P>|t|\n",
      "intercept     1.458500  0.206000  7.088  0.000\n",
      "Pclass       -0.263300  0.072000 -3.678  0.000\n",
      "Age          -0.005400  0.005000 -1.134  0.257\n",
      "SexNr        -0.713400  0.161000 -4.436  0.000\n",
      "SibSp         0.175300  0.141000  1.241  0.215\n",
      "Parch         0.270300  0.098000  2.769  0.006\n",
      "Fare         -0.003700  0.002000 -1.977  0.048\n",
      "Embarked[Q]  -0.077500  0.081000 -0.953  0.341\n",
      "Embarked[S]  -0.059300  0.039000 -1.511  0.131\n",
      "Age:SexNr    -0.004100  0.002000 -1.723  0.085\n",
      "Pclass:Age    0.001200  0.002000  0.711  0.478\n",
      "SibSp:Parch   0.001100  0.025000  0.044  0.965\n",
      "Pclass:SexNr  0.128400  0.049000  2.616  0.009\n",
      "Pclass:SibSp -0.097100  0.043000 -2.250  0.025\n",
      "Pclass:Parch -0.031500  0.032000 -0.989  0.323\n",
      "Pclass:Fare   0.000700  0.001000  0.535  0.593\n",
      "Age:SibSp    -0.000038  0.002000 -0.022  0.983\n",
      "Age:Parch    -0.005700  0.001000 -3.894  0.000\n",
      "Age:Fare      0.000084  0.000036  2.356  0.019\n",
      "SexNr:SibSp   0.016700  0.038000  0.441  0.660\n",
      "SexNr:Parch   0.062000  0.041000  1.522  0.129\n",
      "SexNr:Fare    0.001100  0.001000  1.506  0.132\n",
      "SibSp:Fare   -0.000200  0.001000 -0.275  0.784\n",
      "Parch:Fare   -0.000700  0.001000 -1.400  0.162\n",
      "Rsquared: 0.4541930420375965\n"
     ]
    }
   ],
   "source": [
    "items = ['Pclass', 'Age', 'SexNr', 'SibSp', 'Parch', 'Fare']\n",
    "for first in range(len(items)):\n",
    "    for second in range(len(items)):\n",
    "        if first >= second: continue\n",
    "        title = items[first] + ':' + items[second]\n",
    "        X_3[title] = df[items[first]] * df[items[second]]\n",
    "model_3 = sm.OLS(y,X_3, missing = 'drop')\n",
    "results = model_3.fit()\n",
    "print(summarize(results))\n",
    "print(\"Rsquared:\", results.rsquared)"
   ]
  },
  {
   "cell_type": "markdown",
   "metadata": {},
   "source": [
    "Next, I'll one by one leave out all items that are not significant (backwards selection)."
   ]
  },
  {
   "cell_type": "code",
   "execution_count": 12,
   "metadata": {},
   "outputs": [
    {
     "name": "stdout",
     "output_type": "stream",
     "text": [
      "                  coef   std err       t  P>|t|\n",
      "intercept     1.358600  0.091000  14.874  0.000\n",
      "Pclass       -0.266400  0.036000  -7.390  0.000\n",
      "SexNr        -0.676400  0.136000  -4.968  0.000\n",
      "Parch         0.207500  0.043000   4.792  0.000\n",
      "Fare         -0.002800  0.001000  -3.287  0.001\n",
      "Age:SexNr    -0.006800  0.002000  -4.562  0.000\n",
      "Pclass:SexNr  0.150100  0.045000   3.357  0.001\n",
      "Pclass:SibSp -0.033500  0.007000  -5.119  0.000\n",
      "Age:Parch    -0.006400  0.001000  -5.310  0.000\n",
      "Age:Fare      0.000065  0.000023   2.856  0.004\n",
      "SexNr:Fare    0.001600  0.001000   2.384  0.017\n",
      "Rsquared: 0.4417020798554079\n"
     ]
    }
   ],
   "source": [
    "#X_3 = X_3.drop(['SibSp:Parch'], axis=1) # Rsquared: 0.454\n",
    "#X_3 = X_3.drop(['Age:SibSp'], axis=1) # Rsquared: 0.454\n",
    "#X_3 = X_3.drop(['SibSp:Fare'], axis=1) # Rsquared: 0.454\n",
    "#X_3 = X_3.drop(['SexNr:SibSp'], axis=1) # Rsquared: 0.454\n",
    "#X_3 = X_3.drop(['Pclass:Fare'], axis=1) # Rsquared: 0.454\n",
    "#X_3 = X_3.drop(['Pclass:Age'], axis=1) # Rsquared: 0.453\n",
    "#X_3 = X_3.drop(['Embarked[Q]', 'Embarked[S]'], axis=1) # Rsquared: 0.452\n",
    "#X_3 = X_3.drop(['Pclass:Parch'], axis=1) # Rsquared: 0.451\n",
    "#X_3 = X_3.drop(['Age'], axis=1) # Rsquared: 0.449\n",
    "#X_3 = X_3.drop(['SexNr:Parch'], axis=1) # Rsquared: 0.447\n",
    "#X_3 = X_3.drop(['Parch:Fare'], axis=1) # Rsquared: 0.445\n",
    "#X_3 = X_3.drop(['SibSp'], axis=1) # Rsquared: 0.442\n",
    "\n",
    "dropping = ['SibSp:Parch', 'Age:SibSp', 'SibSp:Fare', 'SexNr:SibSp', 'Pclass:Fare',\n",
    "            'Pclass:Age', 'Embarked[Q]', 'Embarked[S]', 'Pclass:Parch', 'Age',\n",
    "            'SexNr:Parch', 'Parch:Fare', 'SibSp']\n",
    "X_3 = X_3.drop(dropping, axis=1)\n",
    "model_3 = sm.OLS(y,X_3, missing = 'drop')\n",
    "results = model_3.fit()\n",
    "print(summarize(results))\n",
    "print(\"Rsquared:\", results.rsquared)"
   ]
  },
  {
   "cell_type": "markdown",
   "metadata": {},
   "source": [
    "Results of Multiple Linear Regression without interaction terms:\n",
    "- Significant were Pclass, Sex, Age, SibSp\n",
    "- Not significant were PassengerId, Parch (although we don't quite know why), Fare (surrogate for Pclass), Embarked, CabinLetter\n",
    "- Not even taken into account were Name, Ticket, Cabin (the numbers)\n",
    "- Rsquared was at 0.400\n",
    "\n",
    "Results of Multiple Linear Regression with interaction terms:\n",
    "- Significant are: Pclass, Sex, Parch, Fare, Age:SexNr, Pclass:SexNr, Pclass:SibSp, Age:Parch, Age:Fare, SexNr:Fare\n",
    "- This means that now, Parch and Fare are significant again\n",
    "- SibSp on the other hand is significant anymore, but it is present in one interaction term\n",
    "- With each dropping of a non-significant variable, Rsquared got less. In total, in decreased from 0.454 to 0.442, which is its end result for this step"
   ]
  },
  {
   "cell_type": "markdown",
   "metadata": {},
   "source": [
    "### Linear Regression with Polynomial Functions\n",
    "\n",
    "Lastly, I want to see whether polynomial functions add value. So for every simple variable and also the interaction terms, I also want to add a quadratic variable. The problem is, I can't find out how to construct these higher-degree variable from the interaction variables. I wanted to use X_3, which has all except the second-degree variables, and simply add those. However, I can't use MS for that, since the columns would have to be in the original dataset (i.e., df). Now, I'll try to use X_3 as the original dataset and create a new X_4 from this using MS (first dropping the intercept, since it gets constructed again anyway)."
   ]
  },
  {
   "cell_type": "code",
   "execution_count": 13,
   "metadata": {},
   "outputs": [
    {
     "name": "stdout",
     "output_type": "stream",
     "text": [
      "<bound method DataFrame.info of      intercept  poly(Pclass, degree=2)[0]  poly(Pclass, degree=2)[1]  \\\n",
      "0          1.0                   0.027718                   0.012084   \n",
      "1          1.0                  -0.052467                   0.027469   \n",
      "2          1.0                   0.027718                   0.012084   \n",
      "3          1.0                  -0.052467                   0.027469   \n",
      "4          1.0                   0.027718                   0.012084   \n",
      "..         ...                        ...                        ...   \n",
      "886        1.0                  -0.012374                  -0.064493   \n",
      "887        1.0                  -0.052467                   0.027469   \n",
      "888        1.0                   0.027718                   0.012084   \n",
      "889        1.0                  -0.052467                   0.027469   \n",
      "890        1.0                   0.027718                   0.012084   \n",
      "\n",
      "     poly(SexNr, degree=2)[0]  poly(SexNr, degree=2)[1]  \\\n",
      "0                    0.024714                  0.049082   \n",
      "1                   -0.045413                 -0.196328   \n",
      "2                   -0.045413                 -0.196328   \n",
      "3                   -0.045413                 -0.196328   \n",
      "4                    0.024714                  0.049082   \n",
      "..                        ...                       ...   \n",
      "886                  0.024714                  0.049082   \n",
      "887                 -0.045413                 -0.196328   \n",
      "888                 -0.045413                 -0.196328   \n",
      "889                  0.024714                  0.049082   \n",
      "890                  0.024714                  0.049082   \n",
      "\n",
      "     poly(Fare, degree=2)[0]  poly(Fare, degree=2)[1]  \\\n",
      "0                  -0.016833                 0.015757   \n",
      "1                   0.026360                -0.039459   \n",
      "2                  -0.016377                 0.015010   \n",
      "3                   0.014095                -0.027000   \n",
      "4                  -0.016293                 0.014872   \n",
      "..                       ...                      ...   \n",
      "886                -0.012954                 0.009504   \n",
      "887                -0.001487                -0.007488   \n",
      "888                -0.005905                -0.001206   \n",
      "889                -0.001487                -0.007488   \n",
      "890                -0.016495                 0.015203   \n",
      "\n",
      "     poly(Age:SexNr, degree=2)[0]  poly(Age:SexNr, degree=2)[1]  \\\n",
      "0                             NaN                           NaN   \n",
      "1                             NaN                           NaN   \n",
      "2                             NaN                           NaN   \n",
      "3                             NaN                           NaN   \n",
      "4                             NaN                           NaN   \n",
      "..                            ...                           ...   \n",
      "886                           NaN                           NaN   \n",
      "887                           NaN                           NaN   \n",
      "888                           NaN                           NaN   \n",
      "889                           NaN                           NaN   \n",
      "890                           NaN                           NaN   \n",
      "\n",
      "     poly(Pclass:SexNr, degree=2)[0]  ...  poly(Pclass:SibSp, degree=2)[0]  \\\n",
      "0                           0.036975  ...                         0.018048   \n",
      "1                          -0.039404  ...                        -0.002986   \n",
      "2                          -0.039404  ...                        -0.013503   \n",
      "3                          -0.039404  ...                        -0.002986   \n",
      "4                           0.036975  ...                        -0.013503   \n",
      "..                               ...  ...                              ...   \n",
      "886                         0.011516  ...                        -0.013503   \n",
      "887                        -0.039404  ...                        -0.013503   \n",
      "888                        -0.039404  ...                         0.018048   \n",
      "889                        -0.013944  ...                        -0.013503   \n",
      "890                         0.036975  ...                        -0.013503   \n",
      "\n",
      "     poly(Pclass:SibSp, degree=2)[1]  poly(Age:Parch, degree=2)[0]  \\\n",
      "0                          -0.041373                           NaN   \n",
      "1                          -0.008343                           NaN   \n",
      "2                           0.012220                           NaN   \n",
      "3                          -0.008343                           NaN   \n",
      "4                           0.012220                           NaN   \n",
      "..                               ...                           ...   \n",
      "886                         0.012220                           NaN   \n",
      "887                         0.012220                           NaN   \n",
      "888                        -0.041373                           NaN   \n",
      "889                         0.012220                           NaN   \n",
      "890                         0.012220                           NaN   \n",
      "\n",
      "     poly(Age:Parch, degree=2)[1]  poly(Age:Fare, degree=2)[0]  \\\n",
      "0                             NaN                          NaN   \n",
      "1                             NaN                          NaN   \n",
      "2                             NaN                          NaN   \n",
      "3                             NaN                          NaN   \n",
      "4                             NaN                          NaN   \n",
      "..                            ...                          ...   \n",
      "886                           NaN                          NaN   \n",
      "887                           NaN                          NaN   \n",
      "888                           NaN                          NaN   \n",
      "889                           NaN                          NaN   \n",
      "890                           NaN                          NaN   \n",
      "\n",
      "     poly(Age:Fare, degree=2)[1]  poly(SexNr:Fare, degree=2)[0]  \\\n",
      "0                            NaN                      -0.008455   \n",
      "1                            NaN                      -0.015061   \n",
      "2                            NaN                      -0.015061   \n",
      "3                            NaN                      -0.015061   \n",
      "4                            NaN                      -0.007726   \n",
      "..                           ...                            ...   \n",
      "886                          NaN                      -0.003216   \n",
      "887                          NaN                      -0.015061   \n",
      "888                          NaN                      -0.015061   \n",
      "889                          NaN                       0.012275   \n",
      "890                          NaN                      -0.008000   \n",
      "\n",
      "     poly(SexNr:Fare, degree=2)[1]  poly(Parch, degree=2)[0]  \\\n",
      "0                         0.006146                 -0.015869   \n",
      "1                         0.016508                 -0.015869   \n",
      "2                         0.016508                 -0.015869   \n",
      "3                         0.016508                 -0.015869   \n",
      "4                         0.005034                 -0.015869   \n",
      "..                             ...                       ...   \n",
      "886                      -0.001718                 -0.015869   \n",
      "887                       0.016508                 -0.015869   \n",
      "888                       0.016508                  0.067302   \n",
      "889                      -0.023140                 -0.015869   \n",
      "890                       0.005450                 -0.015869   \n",
      "\n",
      "     poly(Parch, degree=2)[1]  \n",
      "0                    0.008588  \n",
      "1                    0.008588  \n",
      "2                    0.008588  \n",
      "3                    0.008588  \n",
      "4                    0.008588  \n",
      "..                        ...  \n",
      "886                  0.008588  \n",
      "887                  0.008588  \n",
      "888                 -0.040578  \n",
      "889                  0.008588  \n",
      "890                  0.008588  \n",
      "\n",
      "[891 rows x 21 columns]>\n",
      "       intercept  poly(Pclass, degree=2)[0]  poly(Pclass, degree=2)[1]  \\\n",
      "count      891.0               8.910000e+02               8.910000e+02   \n",
      "mean         1.0              -1.744458e-18              -3.257776e-16   \n",
      "std          0.0               3.352008e-02               3.352008e-02   \n",
      "min          1.0              -5.246656e-02              -6.449285e-02   \n",
      "25%          1.0              -1.237419e-02               1.208420e-02   \n",
      "50%          1.0               2.771818e-02               1.208420e-02   \n",
      "75%          1.0               2.771818e-02               1.208420e-02   \n",
      "max          1.0               2.771818e-02               2.746918e-02   \n",
      "\n",
      "       poly(SexNr, degree=2)[0]  poly(SexNr, degree=2)[1]  \\\n",
      "count              8.910000e+02                891.000000   \n",
      "mean              -1.993666e-18                 -0.037404   \n",
      "std                3.352008e-02                  0.117304   \n",
      "min               -4.541342e-02                 -0.196328   \n",
      "25%               -4.541342e-02                 -0.196328   \n",
      "50%                2.471372e-02                  0.049082   \n",
      "75%                2.471372e-02                  0.049082   \n",
      "max                2.471372e-02                  0.049082   \n",
      "\n",
      "       poly(Fare, degree=2)[0]  poly(Fare, degree=2)[1]  \\\n",
      "count             8.910000e+02             8.910000e+02   \n",
      "mean              2.392400e-17            -3.336276e-17   \n",
      "std               3.352008e-02             3.352008e-02   \n",
      "min              -2.172294e-02            -6.393374e-02   \n",
      "25%              -1.638708e-02            -8.136144e-03   \n",
      "50%              -1.197304e-02             7.963349e-03   \n",
      "75%              -8.122833e-04             1.504196e-02   \n",
      "max               3.238623e-01             4.406886e-01   \n",
      "\n",
      "       poly(Age:SexNr, degree=2)[0]  poly(Age:SexNr, degree=2)[1]  \\\n",
      "count                           0.0                           0.0   \n",
      "mean                            NaN                           NaN   \n",
      "std                             NaN                           NaN   \n",
      "min                             NaN                           NaN   \n",
      "25%                             NaN                           NaN   \n",
      "50%                             NaN                           NaN   \n",
      "75%                             NaN                           NaN   \n",
      "max                             NaN                           NaN   \n",
      "\n",
      "       poly(Pclass:SexNr, degree=2)[0]  ...  poly(Pclass:SibSp, degree=2)[0]  \\\n",
      "count                     8.910000e+02  ...                     8.910000e+02   \n",
      "mean                      2.367479e-18  ...                     8.722291e-19   \n",
      "std                       3.352008e-02  ...                     3.352008e-02   \n",
      "min                      -3.940421e-02  ...                    -1.350319e-02   \n",
      "25%                      -3.940421e-02  ...                    -1.350319e-02   \n",
      "50%                       1.151552e-02  ...                    -1.350319e-02   \n",
      "75%                       3.697538e-02  ...                    -2.986281e-03   \n",
      "max                       3.697538e-02  ...                     2.389025e-01   \n",
      "\n",
      "       poly(Pclass:SibSp, degree=2)[1]  poly(Age:Parch, degree=2)[0]  \\\n",
      "count                     8.910000e+02                           0.0   \n",
      "mean                     -2.310161e-16                           NaN   \n",
      "std                       3.352008e-02                           NaN   \n",
      "min                      -7.570621e-02                           NaN   \n",
      "25%                      -8.342844e-03                           NaN   \n",
      "50%                       1.221957e-02                           NaN   \n",
      "75%                       1.221957e-02                           NaN   \n",
      "max                       2.634304e-01                           NaN   \n",
      "\n",
      "       poly(Age:Parch, degree=2)[1]  poly(Age:Fare, degree=2)[0]  \\\n",
      "count                           0.0                          0.0   \n",
      "mean                            NaN                          NaN   \n",
      "std                             NaN                          NaN   \n",
      "min                             NaN                          NaN   \n",
      "25%                             NaN                          NaN   \n",
      "50%                             NaN                          NaN   \n",
      "75%                             NaN                          NaN   \n",
      "max                             NaN                          NaN   \n",
      "\n",
      "       poly(Age:Fare, degree=2)[1]  poly(SexNr:Fare, degree=2)[0]  \\\n",
      "count                          0.0                   8.910000e+02   \n",
      "mean                           NaN                   1.171279e-17   \n",
      "std                            NaN                   3.352008e-02   \n",
      "min                            NaN                  -1.506148e-02   \n",
      "25%                            NaN                  -1.506148e-02   \n",
      "50%                            NaN                  -7.927368e-03   \n",
      "75%                            NaN                  -8.046892e-04   \n",
      "max                            NaN                   4.517825e-01   \n",
      "\n",
      "       poly(SexNr:Fare, degree=2)[1]  poly(Parch, degree=2)[0]  \\\n",
      "count                   8.910000e+02                891.000000   \n",
      "mean                   -8.597687e-18                  0.000000   \n",
      "std                     3.352008e-02                  0.033520   \n",
      "min                    -9.674646e-02                 -0.015869   \n",
      "25%                    -5.039401e-03                 -0.015869   \n",
      "50%                     5.386573e-03                 -0.015869   \n",
      "75%                     1.650769e-02                 -0.015869   \n",
      "max                     5.075007e-01                  0.233643   \n",
      "\n",
      "       poly(Parch, degree=2)[1]  \n",
      "count              8.910000e+02  \n",
      "mean               1.285915e-16  \n",
      "std                3.352008e-02  \n",
      "min               -4.122995e-02  \n",
      "25%                8.587601e-03  \n",
      "50%                8.587601e-03  \n",
      "75%                8.587601e-03  \n",
      "max                4.667269e-01  \n",
      "\n",
      "[8 rows x 21 columns]\n",
      "<bound method DataFrame.info of      intercept  Pclass  SexNr  Parch     Fare  Age:SexNr  Pclass:SexNr  \\\n",
      "0          1.0       3      1      0   7.2500       22.0             3   \n",
      "1          1.0       1      0      0  71.2833        0.0             0   \n",
      "2          1.0       3      0      0   7.9250        0.0             0   \n",
      "3          1.0       1      0      0  53.1000        0.0             0   \n",
      "4          1.0       3      1      0   8.0500       35.0             3   \n",
      "..         ...     ...    ...    ...      ...        ...           ...   \n",
      "886        1.0       2      1      0  13.0000       27.0             2   \n",
      "887        1.0       1      0      0  30.0000        0.0             0   \n",
      "888        1.0       3      0      2  23.4500        NaN             0   \n",
      "889        1.0       1      1      0  30.0000       26.0             1   \n",
      "890        1.0       3      1      0   7.7500       32.0             3   \n",
      "\n",
      "     Pclass:SibSp  Age:Parch   Age:Fare  SexNr:Fare  \n",
      "0               3        0.0   159.5000        7.25  \n",
      "1               1        0.0  2708.7654        0.00  \n",
      "2               0        0.0   206.0500        0.00  \n",
      "3               1        0.0  1858.5000        0.00  \n",
      "4               0        0.0   281.7500        8.05  \n",
      "..            ...        ...        ...         ...  \n",
      "886             0        0.0   351.0000       13.00  \n",
      "887             0        0.0   570.0000        0.00  \n",
      "888             3        NaN        NaN        0.00  \n",
      "889             0        0.0   780.0000       30.00  \n",
      "890             0        0.0   248.0000        7.75  \n",
      "\n",
      "[891 rows x 11 columns]>\n",
      "       intercept      Pclass       SexNr       Parch        Fare   Age:SexNr  \\\n",
      "count      891.0  891.000000  891.000000  891.000000  891.000000  714.000000   \n",
      "mean         1.0    2.308642    0.647587    0.381594   32.204208   19.494636   \n",
      "std          0.0    0.836071    0.477990    0.806057   49.693429   18.864076   \n",
      "min          1.0    1.000000    0.000000    0.000000    0.000000    0.000000   \n",
      "25%          1.0    2.000000    0.000000    0.000000    7.910400    0.000000   \n",
      "50%          1.0    3.000000    1.000000    0.000000   14.454200   20.000000   \n",
      "75%          1.0    3.000000    1.000000    0.000000   31.000000   32.000000   \n",
      "max          1.0    3.000000    1.000000    6.000000  512.329200   80.000000   \n",
      "\n",
      "       Pclass:SexNr  Pclass:SibSp   Age:Parch      Age:Fare  SexNr:Fare  \n",
      "count    891.000000    891.000000  714.000000    714.000000  891.000000  \n",
      "mean       1.547699      1.283951   10.470476   1104.142053   16.528941  \n",
      "std        1.316585      3.187257   29.164503   1949.356185   36.785977  \n",
      "min        0.000000      0.000000    0.000000      0.000000    0.000000  \n",
      "25%        0.000000      0.000000    0.000000    203.906250    0.000000  \n",
      "50%        2.000000      0.000000    0.000000    378.500000    7.829200  \n",
      "75%        3.000000      1.000000    2.000000   1194.243750   15.645850  \n",
      "max        3.000000     24.000000  258.000000  18443.851200  512.329200  \n"
     ]
    }
   ],
   "source": [
    "X_4 = MS([poly('Pclass', degree=2), poly('SexNr', degree=2), poly('Fare', degree=2),\n",
    "          poly('Age:SexNr', degree=2), poly('Pclass:SexNr', degree=2), poly('Pclass:SibSp', degree=2),\n",
    "          poly('Age:Parch', degree=2), poly('Age:Fare', degree=2), poly('SexNr:Fare', degree=2),\n",
    "          poly('Parch', degree=2)]).fit_transform(X_3.drop('intercept', axis=1))\n",
    "\n",
    "print(X_4.info)\n",
    "print(X_4.describe())\n",
    "print(X_3.info)\n",
    "print(X_3.describe())"
   ]
  },
  {
   "cell_type": "markdown",
   "metadata": {},
   "source": [
    "This seems to have worked somehow. But now several of the second-degree variables don't have valid numbers. Let's see which rows this affects."
   ]
  },
  {
   "cell_type": "code",
   "execution_count": 14,
   "metadata": {},
   "outputs": [
    {
     "name": "stdout",
     "output_type": "stream",
     "text": [
      "Index(['intercept', 'poly(Pclass, degree=2)[0]', 'poly(Pclass, degree=2)[1]',\n",
      "       'poly(SexNr, degree=2)[0]', 'poly(SexNr, degree=2)[1]',\n",
      "       'poly(Fare, degree=2)[0]', 'poly(Fare, degree=2)[1]',\n",
      "       'poly(Age:SexNr, degree=2)[0]', 'poly(Age:SexNr, degree=2)[1]',\n",
      "       'poly(Pclass:SexNr, degree=2)[0]', 'poly(Pclass:SexNr, degree=2)[1]',\n",
      "       'poly(Pclass:SibSp, degree=2)[0]', 'poly(Pclass:SibSp, degree=2)[1]',\n",
      "       'poly(Age:Parch, degree=2)[0]', 'poly(Age:Parch, degree=2)[1]',\n",
      "       'poly(Age:Fare, degree=2)[0]', 'poly(Age:Fare, degree=2)[1]',\n",
      "       'poly(SexNr:Fare, degree=2)[0]', 'poly(SexNr:Fare, degree=2)[1]',\n",
      "       'poly(Parch, degree=2)[0]', 'poly(Parch, degree=2)[1]'],\n",
      "      dtype='object')\n",
      "Missing rows in intercept: 0\n",
      "Missing rows in poly(Pclass, degree=2)[0]: 0\n",
      "Missing rows in poly(Pclass, degree=2)[1]: 0\n",
      "Missing rows in poly(SexNr, degree=2)[0]: 0\n",
      "Missing rows in poly(SexNr, degree=2)[1]: 0\n",
      "Missing rows in poly(Fare, degree=2)[0]: 0\n",
      "Missing rows in poly(Fare, degree=2)[1]: 0\n",
      "Missing rows in poly(Age:SexNr, degree=2)[0]: 891\n",
      "Missing rows in poly(Age:SexNr, degree=2)[1]: 891\n",
      "Missing rows in poly(Pclass:SexNr, degree=2)[0]: 0\n",
      "Missing rows in poly(Pclass:SexNr, degree=2)[1]: 0\n",
      "Missing rows in poly(Pclass:SibSp, degree=2)[0]: 0\n",
      "Missing rows in poly(Pclass:SibSp, degree=2)[1]: 0\n",
      "Missing rows in poly(Age:Parch, degree=2)[0]: 891\n",
      "Missing rows in poly(Age:Parch, degree=2)[1]: 891\n",
      "Missing rows in poly(Age:Fare, degree=2)[0]: 891\n",
      "Missing rows in poly(Age:Fare, degree=2)[1]: 891\n",
      "Missing rows in poly(SexNr:Fare, degree=2)[0]: 0\n",
      "Missing rows in poly(SexNr:Fare, degree=2)[1]: 0\n",
      "Missing rows in poly(Parch, degree=2)[0]: 0\n",
      "Missing rows in poly(Parch, degree=2)[1]: 0\n"
     ]
    }
   ],
   "source": [
    "print(X_4.columns)\n",
    "for col in X_4.columns:\n",
    "    print(\"Missing rows in {0}:\".format(col), X_4[col].shape[0] - X_4[col].count())"
   ]
  },
  {
   "cell_type": "markdown",
   "metadata": {},
   "source": [
    "All the interaction terms with 'Age' have no valid entries. So we'll just leave those as they are, and keep that in mind. I'll evaluate the results with and without those terms, since I don't know if the different sizing of the variables might be a too strong influence."
   ]
  },
  {
   "cell_type": "code",
   "execution_count": 15,
   "metadata": {},
   "outputs": [
    {
     "name": "stdout",
     "output_type": "stream",
     "text": [
      "                                     coef   std err      t  P>|t|\n",
      "intercept                        0.596000  0.065000  9.161  0.000\n",
      "poly(Pclass, degree=2)[0]       -6.645200  1.136000 -5.850  0.000\n",
      "poly(Pclass, degree=2)[1]       -2.026600  0.696000 -2.910  0.004\n",
      "poly(SexNr, degree=2)[0]         0.631100  0.380000  1.661  0.097\n",
      "poly(SexNr, degree=2)[1]         2.186100  1.327000  1.647  0.100\n",
      "poly(Fare, degree=2)[0]         -3.428500  1.310000 -2.618  0.009\n",
      "poly(Fare, degree=2)[1]          0.407800  0.795000  0.513  0.608\n",
      "Age:SexNr                       -0.007500  0.001000 -4.991  0.000\n",
      "poly(Pclass:SexNr, degree=2)[0] -8.861700  4.201000 -2.109  0.035\n",
      "poly(Pclass:SexNr, degree=2)[1]  8.489500  1.909000  4.448  0.000\n",
      "poly(Pclass:SibSp, degree=2)[0] -4.322900  0.917000 -4.714  0.000\n",
      "poly(Pclass:SibSp, degree=2)[1] -1.798800  0.954000 -1.886  0.060\n",
      "Age:Parch                       -0.006100  0.001000 -4.354  0.000\n",
      "Age:Fare                         0.000064  0.000023  2.787  0.005\n",
      "poly(SexNr:Fare, degree=2)[0]    0.500900  0.829000  0.604  0.546\n",
      "poly(SexNr:Fare, degree=2)[1]    0.104700  0.798000  0.131  0.896\n",
      "poly(Parch, degree=2)[0]         4.855200  1.120000  4.335  0.000\n",
      "poly(Parch, degree=2)[1]        -0.286600  0.472000 -0.607  0.544\n",
      "Rsquared: 0.46259852296483206\n",
      "                                   coef  std err      t  P>|t|\n",
      "intercept                        0.3459    0.047  7.361  0.000\n",
      "poly(Pclass, degree=2)[0]       -6.7099    1.067 -6.291  0.000\n",
      "poly(Pclass, degree=2)[1]       -1.5177    0.684 -2.219  0.027\n",
      "poly(SexNr, degree=2)[0]        -0.2859    0.346 -0.826  0.409\n",
      "poly(SexNr, degree=2)[1]        -1.0136    1.210 -0.837  0.403\n",
      "poly(Fare, degree=2)[0]         -0.8770    0.842 -1.042  0.298\n",
      "poly(Fare, degree=2)[1]          0.9026    0.785  1.150  0.251\n",
      "poly(Pclass:SexNr, degree=2)[0] -1.6475    3.955 -0.417  0.677\n",
      "poly(Pclass:SexNr, degree=2)[1]  5.6484    1.861  3.034  0.002\n",
      "poly(Pclass:SibSp, degree=2)[0] -1.5622    0.457 -3.418  0.001\n",
      "poly(Pclass:SibSp, degree=2)[1] -0.2403    0.384 -0.626  0.531\n",
      "poly(SexNr:Fare, degree=2)[0]    1.3620    0.772  1.764  0.078\n",
      "poly(SexNr:Fare, degree=2)[1]   -0.6803    0.771 -0.882  0.378\n",
      "poly(Parch, degree=2)[0]         0.2061    0.457  0.451  0.652\n",
      "poly(Parch, degree=2)[1]        -1.4111    0.402 -3.509  0.000\n",
      "Rsquared: 0.4115785379703685\n"
     ]
    }
   ],
   "source": [
    "X_4 = MS([poly('Pclass', degree=2), poly('SexNr', degree=2), poly('Fare', degree=2),\n",
    "          'Age:SexNr', poly('Pclass:SexNr', degree=2), poly('Pclass:SibSp', degree=2),\n",
    "          'Age:Parch', 'Age:Fare', poly('SexNr:Fare', degree=2),\n",
    "          poly('Parch', degree=2)]).fit_transform(X_3.drop('intercept', axis=1))\n",
    "X_4_noAge = MS([poly('Pclass', degree=2), poly('SexNr', degree=2), poly('Fare', degree=2),\n",
    "          poly('Pclass:SexNr', degree=2), poly('Pclass:SibSp', degree=2), poly('SexNr:Fare', degree=2),\n",
    "          poly('Parch', degree=2)]).fit_transform(X_3.drop('intercept', axis=1))\n",
    "results = sm.OLS(y,X_4, missing = 'drop').fit()\n",
    "results_noAge = sm.OLS(y,X_4_noAge, missing = 'drop').fit()\n",
    "print(summarize(results))\n",
    "print(\"Rsquared:\", results.rsquared) # Rsquared: 0.463\n",
    "print(summarize(results_noAge))\n",
    "print(\"Rsquared:\", results_noAge.rsquared) # Rsquared: 0.412"
   ]
  },
  {
   "cell_type": "markdown",
   "metadata": {},
   "source": [
    "The Rsquared for the model without Age is 5% lower, a significant amount. I'll use the model with Age included going forward.\n",
    "\n",
    "Now, I'll do the same as above and use backwards selection until all the variables are significant."
   ]
  },
  {
   "cell_type": "code",
   "execution_count": 16,
   "metadata": {},
   "outputs": [
    {
     "name": "stdout",
     "output_type": "stream",
     "text": [
      "                                     coef   std err      t  P>|t|\n",
      "intercept                        0.596000  0.065000  9.161  0.000\n",
      "poly(Pclass, degree=2)[0]       -6.645200  1.136000 -5.850  0.000\n",
      "poly(Pclass, degree=2)[1]       -2.026600  0.696000 -2.910  0.004\n",
      "poly(SexNr, degree=2)[0]         0.631100  0.380000  1.661  0.097\n",
      "poly(SexNr, degree=2)[1]         2.186100  1.327000  1.647  0.100\n",
      "poly(Fare, degree=2)[0]         -3.428500  1.310000 -2.618  0.009\n",
      "poly(Fare, degree=2)[1]          0.407800  0.795000  0.513  0.608\n",
      "Age:SexNr                       -0.007500  0.001000 -4.991  0.000\n",
      "poly(Pclass:SexNr, degree=2)[0] -8.861700  4.201000 -2.109  0.035\n",
      "poly(Pclass:SexNr, degree=2)[1]  8.489500  1.909000  4.448  0.000\n",
      "poly(Pclass:SibSp, degree=2)[0] -4.322900  0.917000 -4.714  0.000\n",
      "poly(Pclass:SibSp, degree=2)[1] -1.798800  0.954000 -1.886  0.060\n",
      "Age:Parch                       -0.006100  0.001000 -4.354  0.000\n",
      "Age:Fare                         0.000064  0.000023  2.787  0.005\n",
      "poly(SexNr:Fare, degree=2)[0]    0.500900  0.829000  0.604  0.546\n",
      "poly(SexNr:Fare, degree=2)[1]    0.104700  0.798000  0.131  0.896\n",
      "poly(Parch, degree=2)[0]         4.855200  1.120000  4.335  0.000\n",
      "poly(Parch, degree=2)[1]        -0.286600  0.472000 -0.607  0.544\n",
      "Rsquared: 0.46259852296483206\n"
     ]
    }
   ],
   "source": [
    "#X_4 = X_4.drop(['poly(SexNr:Fare, degree=2)[1]'], axis=1) # Rsquared: 0.463\n",
    "#X_4 = X_4.drop(['poly(Parch, degree=2)[1]'], axis=1) # Rsquared: 0.462\n",
    "#X_4 = X_4.drop(['poly(SexNr:Fare, degree=2)[0]'], axis=1) # Rsquared: 0.462\n",
    "#X_4 = X_4.drop(['poly(Fare, degree=2)[1]'], axis=1) # Rsquared: 0.461\n",
    "#X_4 = X_4.drop(['poly(Pclass:SibSp, degree=2)[1]'], axis=1) # Rsquared: 0.459\n",
    "results = sm.OLS(y,X_4, missing = 'drop').fit()\n",
    "print(summarize(results))\n",
    "print(\"Rsquared:\", results.rsquared)"
   ]
  },
  {
   "cell_type": "markdown",
   "metadata": {},
   "source": [
    "Now, the Rsquared is at 0.459 (which is only 1,8% higher that the Regression without higher-degree variables).\n",
    "\n",
    "Results of Multiple Linear Regression without higher-degree variables:\n",
    "- Significant are: Pclass, Sex, Parch, Fare, Age:SexNr, Pclass:SexNr, Pclass:SibSp, Age:Parch, Age:Fare, SexNr:Fare\n",
    "- This means that now, Parch and Fare are significant again\n",
    "- SibSp on the other hand is significant anymore, but it is present in one interaction term\n",
    "- Rquared was 0.400\n",
    "\n",
    "Results of Multiple Linear Regression with higher-degree variables:\n",
    "- ...\n",
    "- Now, Rsquared is at 0.459. Not as much of an increase as when introducing the interaction terms, but still.\n",
    "\n",
    "It might be that I've approached the integration of interaction terms and higher degree wrongly. I have basically tried out every interaction variable and every polynomial function (based on the interaction variables). If I do this process the other way around (first polynomial, then interaction variables), I might get different results. Also, though not in this case, it's dangerous to use this approach in settings with many variables. The probability of finding (false) relationships due to the sheer amount of variables is relatively high.\n",
    "\n",
    "## 10fold Cross-Validation / Bootstrap\n",
    "\n",
    "First of all, I'm using 10fold CV on all instances of the least squares models:\n",
    "- Multiple Linear Regression\n",
    "- Multiple Linear Regression with interaction terms\n",
    "- Multiple Linear Regression with interaction terms and higher flexibility\n",
    "\n",
    "### 10fold CV for Multiple Linear Regression\n",
    "\n",
    "I have to use SexNr instead of Sex (no categorical values). It also can't handle missing values, so I'll use the mean for all missing values or alternatively drop those rows."
   ]
  },
  {
   "cell_type": "code",
   "execution_count": 17,
   "metadata": {},
   "outputs": [
    {
     "name": "stdout",
     "output_type": "stream",
     "text": [
      "0.1458611427821505\n"
     ]
    }
   ],
   "source": [
    "# replacing missing values with the mean\n",
    "mean = np.mean(df['Age'])\n",
    "df_missingMean = df.copy()\n",
    "df_missingMean['Age'] = df_missingMean['Age'].fillna(mean)\n",
    "# dropping the rows\n",
    "df_missingDrop = df.dropna(subset=['Age'], inplace=False)\n",
    "\n",
    "hp_model = sklearn_sm(sm.OLS, MS(['Pclass', 'Age', 'SexNr', 'SibSp']))\n",
    "X, Y = df_missingDrop, df_missingDrop['Survived']\n",
    "cv = KFold(n_splits=10,\n",
    "           shuffle=True,\n",
    "           random_state=0)\n",
    "cv_results = cross_validate(hp_model,\n",
    "                            X,\n",
    "                            Y,\n",
    "                            cv=cv)\n",
    "cv_err = np.mean(cv_results['test_score'])\n",
    "print(cv_err)\n",
    "\n",
    "\n"
   ]
  },
  {
   "cell_type": "markdown",
   "metadata": {},
   "source": [
    "The classification error is in both cases 14.59%.\n",
    "\n",
    "### 10fold CV for Multiple Linear Regression with Interaction Terms\n",
    "\n",
    "Again, using both the the missing values substituted by the mean as well as dropped."
   ]
  },
  {
   "cell_type": "code",
   "execution_count": 19,
   "metadata": {},
   "outputs": [
    {
     "name": "stdout",
     "output_type": "stream",
     "text": [
      "Index(['intercept', 'Pclass', 'SexNr', 'Parch', 'Fare', 'Age:SexNr',\n",
      "       'Pclass:SexNr', 'Pclass:SibSp', 'Age:Parch', 'Age:Fare', 'SexNr:Fare'],\n",
      "      dtype='object')\n",
      "Index(['intercept', 'Pclass', 'SexNr', 'Parch', 'Fare', 'Age:SexNr',\n",
      "       'Pclass:SexNr', 'Pclass:SibSp', 'Age:Parch', 'Age:Fare', 'SexNr:Fare'],\n",
      "      dtype='object')\n",
      "0.14127588282407597\n"
     ]
    }
   ],
   "source": [
    "X_3_missingMean = X_3.copy()\n",
    "X_3_missingMean['Age:SexNr'] = X_3_missingMean['Age:SexNr'].fillna(np.mean(X_3_missingMean['Age:SexNr']))\n",
    "X_3_missingMean['Age:Parch'] = X_3_missingMean['Age:Parch'].fillna(np.mean(X_3_missingMean['Age:Parch']))\n",
    "X_3_missingMean['Age:Fare'] = X_3_missingMean['Age:Fare'].fillna(np.mean(X_3_missingMean['Age:Fare']))\n",
    "X_3_missingDrop = X_3.dropna(subset=['Age:SexNr', 'Age:Parch', 'Age:Fare'], inplace=False)\n",
    "print(X_3_missingDrop.columns)\n",
    "print(X_3_missingMean.columns)\n",
    "\n",
    "hp_model = sklearn_sm(sm.OLS, MS([\"Pclass\", \"SexNr\", \"Parch\", \"Fare\", \"Age:SexNr\", \"Pclass:SexNr\", \"Pclass:SibSp\", \"Age:Parch\", \"Age:Fare\", \"SexNr:Fare\"]))\n",
    "X, Y = X_3_missingMean, df_missingMean['Survived']\n",
    "cv = KFold(n_splits=10,\n",
    "           shuffle=True,\n",
    "           random_state=0)\n",
    "cv_results = cross_validate(hp_model,\n",
    "                            X,\n",
    "                            Y,\n",
    "                            cv=cv, error_score='raise')\n",
    "cv_err = np.mean(cv_results['test_score'])\n",
    "print(cv_err)"
   ]
  },
  {
   "cell_type": "markdown",
   "metadata": {},
   "source": [
    "The classification error with dropping the missing values is 13.84%.\n",
    "\n",
    "The classification error with replacing the missing values with their mean is 14.13%.\n",
    "\n",
    "### 10fold CV for Multiple Linear Regression with Interaction Terms and higher flexibility\n",
    "\n",
    "There are no missing terms in the dataframe I used for this, so this is just straightforward."
   ]
  },
  {
   "cell_type": "code",
   "execution_count": 23,
   "metadata": {},
   "outputs": [
    {
     "name": "stdout",
     "output_type": "stream",
     "text": [
      "0.14482972078084227\n"
     ]
    }
   ],
   "source": [
    "hp_model = sklearn_sm(sm.OLS, MS(['poly(Pclass, degree=2)[0]', 'poly(Pclass, degree=2)[1]',\n",
    "       'poly(SexNr, degree=2)[0]', 'poly(SexNr, degree=2)[1]',\n",
    "       'poly(Fare, degree=2)[0]', 'poly(Fare, degree=2)[1]',\n",
    "       'poly(Pclass:SexNr, degree=2)[0]', 'poly(Pclass:SexNr, degree=2)[1]',\n",
    "       'poly(Pclass:SibSp, degree=2)[0]', 'poly(Pclass:SibSp, degree=2)[1]',\n",
    "       'poly(SexNr:Fare, degree=2)[0]', 'poly(SexNr:Fare, degree=2)[1]',\n",
    "       'poly(Parch, degree=2)[0]', 'poly(Parch, degree=2)[1]']))\n",
    "X, Y = X_4_noAge, df['Survived']\n",
    "cv = KFold(n_splits=10,\n",
    "           shuffle=True,\n",
    "           random_state=0)\n",
    "cv_results = cross_validate(hp_model,\n",
    "                            X,\n",
    "                            Y,\n",
    "                            cv=cv, error_score='raise')\n",
    "cv_err = np.mean(cv_results['test_score'])\n",
    "print(cv_err)"
   ]
  },
  {
   "cell_type": "markdown",
   "metadata": {},
   "source": [
    "Classification Errors:\n",
    "- 14.59% for Multiple Linear Regression\n",
    "- 14.13% for Multiple Linear Regression with interaction terms when replacing the missing values with the mean\n",
    "- 13.84% for Multiple Linear Regression with interaction terms when dropping the missing values\n",
    "- 14.48% for Multiple Linear Regression with interaction terms and higher flexibility\n",
    "\n",
    "The differences don't seem to be relevant, only maybe for the 13.84%. But around this much seems to be as far as the Least Squares model can go."
   ]
  }
 ],
 "metadata": {
  "kernelspec": {
   "display_name": "Python 3",
   "language": "python",
   "name": "python3"
  },
  "language_info": {
   "codemirror_mode": {
    "name": "ipython",
    "version": 3
   },
   "file_extension": ".py",
   "mimetype": "text/x-python",
   "name": "python",
   "nbconvert_exporter": "python",
   "pygments_lexer": "ipython3",
   "version": "3.11.5"
  }
 },
 "nbformat": 4,
 "nbformat_minor": 2
}
