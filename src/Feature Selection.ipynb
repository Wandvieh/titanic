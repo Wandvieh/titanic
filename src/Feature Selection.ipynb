{
 "cells": [
  {
   "cell_type": "markdown",
   "metadata": {},
   "source": [
    "# Feature Selection\n",
    "\n",
    "Here, I want to apply what I learnt in [Introduction to Statistical Learning](https://www.statlearning.com/) Chapter 6 about Feature Selection. This also answers some of my questions in the Least Squares / Logistic Regression files."
   ]
  },
  {
   "cell_type": "code",
   "execution_count": 1,
   "metadata": {},
   "outputs": [
    {
     "name": "stdout",
     "output_type": "stream",
     "text": [
      "(891, 12)\n",
      "Index(['PassengerId', 'Survived', 'Pclass', 'Name', 'Sex', 'Age', 'SibSp',\n",
      "       'Parch', 'Ticket', 'Fare', 'Cabin', 'Embarked'],\n",
      "      dtype='object')\n",
      "PassengerId      int64\n",
      "Survived         int64\n",
      "Pclass           int64\n",
      "Name            object\n",
      "Sex             object\n",
      "Age            float64\n",
      "SibSp            int64\n",
      "Parch            int64\n",
      "Ticket          object\n",
      "Fare           float64\n",
      "Cabin           object\n",
      "Embarked        object\n",
      "dtype: object\n",
      "Missing rows in PassengerId: 0\n",
      "Missing rows in Survived: 0\n",
      "Missing rows in Pclass: 0\n",
      "Missing rows in Name: 0\n",
      "Missing rows in Sex: 0\n",
      "Missing rows in Age: 177\n",
      "Missing rows in SibSp: 0\n",
      "Missing rows in Parch: 0\n",
      "Missing rows in Ticket: 0\n",
      "Missing rows in Fare: 0\n",
      "Missing rows in Cabin: 687\n",
      "Missing rows in Embarked: 2\n",
      "       PassengerId    Survived      Pclass         Age       SibSp  \\\n",
      "count   891.000000  891.000000  891.000000  714.000000  891.000000   \n",
      "mean    446.000000    0.383838    2.308642   29.699118    0.523008   \n",
      "std     257.353842    0.486592    0.836071   14.526497    1.102743   \n",
      "min       1.000000    0.000000    1.000000    0.420000    0.000000   \n",
      "25%     223.500000    0.000000    2.000000   20.125000    0.000000   \n",
      "50%     446.000000    0.000000    3.000000   28.000000    0.000000   \n",
      "75%     668.500000    1.000000    3.000000   38.000000    1.000000   \n",
      "max     891.000000    1.000000    3.000000   80.000000    8.000000   \n",
      "\n",
      "            Parch        Fare  \n",
      "count  891.000000  891.000000  \n",
      "mean     0.381594   32.204208  \n",
      "std      0.806057   49.693429  \n",
      "min      0.000000    0.000000  \n",
      "25%      0.000000    7.910400  \n",
      "50%      0.000000   14.454200  \n",
      "75%      0.000000   31.000000  \n",
      "max      6.000000  512.329200  \n"
     ]
    }
   ],
   "source": [
    "import pandas as pd\n",
    "import numpy as np\n",
    "import itertools\n",
    "import statsmodels.api as sm\n",
    "from ISLP.models import (ModelSpec as MS, summarize, poly)\n",
    "import seaborn as sns\n",
    "from matplotlib import pyplot as plt\n",
    "from sklearn.model_selection import \\\n",
    "     (cross_validate,\n",
    "      KFold)\n",
    "\n",
    "df = pd.read_csv(\"../train.csv\")\n",
    "print(df.shape)\n",
    "print(df.columns)\n",
    "print(df.dtypes)\n",
    "for col in df.columns:\n",
    "    print(\"Missing rows in {0}:\".format(col), df[col].shape[0] - df[col].count())\n",
    "print(df.describe())\n",
    "\n",
    "y = df['Survived']"
   ]
  },
  {
   "cell_type": "markdown",
   "metadata": {},
   "source": [
    "First of all, I have to do some preprocessing:"
   ]
  },
  {
   "cell_type": "code",
   "execution_count": 2,
   "metadata": {},
   "outputs": [
    {
     "name": "stdout",
     "output_type": "stream",
     "text": [
      "PassengerId       int64\n",
      "Survived          int64\n",
      "Pclass            int64\n",
      "Name             object\n",
      "Sex            category\n",
      "Age             float64\n",
      "SibSp             int64\n",
      "Parch             int64\n",
      "Ticket           object\n",
      "Fare            float64\n",
      "Cabin            object\n",
      "Embarked       category\n",
      "SexNr              int8\n",
      "dtype: object\n"
     ]
    }
   ],
   "source": [
    "df['Sex'] = df['Sex'].astype('category')\n",
    "df['SexNr'] = df['Sex'].cat.codes\n",
    "\n",
    "mean = np.mean(df['Age'])\n",
    "df['Age'] = df['Age'].fillna(mean)\n",
    "\n",
    "df['Embarked'] = df['Embarked'].astype('category')\n",
    "\n",
    "print(df.dtypes)"
   ]
  },
  {
   "cell_type": "markdown",
   "metadata": {},
   "source": [
    "## Best Subset Selection\n",
    "\n",
    "1. Generate all best models with 0 to p predictors."
   ]
  },
  {
   "cell_type": "code",
   "execution_count": 19,
   "metadata": {},
   "outputs": [
    {
     "name": "stdout",
     "output_type": "stream",
     "text": [
      "Anzahl an Predictors: 0\n",
      "Beste Kombination: () mit R^2: 0\n",
      "Anzahl an Predictors: 1\n",
      "Beste Kombination: ('Embarked',) mit R^2: 0.2952307228626888\n",
      "Anzahl an Predictors: 2\n",
      "Beste Kombination: ('Fare', 'Embarked') mit R^2: 0.36768020891350406\n",
      "Anzahl an Predictors: 3\n",
      "Beste Kombination: ('Parch', 'Fare', 'Embarked') mit R^2: 0.38336856306416056\n",
      "Anzahl an Predictors: 4\n",
      "Beste Kombination: ('SibSp', 'Parch', 'Fare', 'Embarked') mit R^2: 0.39326065634846097\n",
      "Anzahl an Predictors: 5\n",
      "Beste Kombination: ('Age', 'SibSp', 'Parch', 'Fare', 'Embarked') mit R^2: 0.3974572876555986\n",
      "Anzahl an Predictors: 6\n",
      "Beste Kombination: ('SexNr', 'Age', 'SibSp', 'Parch', 'Fare', 'Embarked') mit R^2: 0.3978260472917734\n",
      "Anzahl an Predictors: 7\n",
      "Beste Kombination: ('Pclass', 'SexNr', 'Age', 'SibSp', 'Parch', 'Fare', 'Embarked') mit R^2: 0.39834629200884475\n"
     ]
    }
   ],
   "source": [
    "predictors = ['Pclass', 'SexNr', 'Age', 'SibSp', 'Parch', 'Fare', 'Embarked']\n",
    "\n",
    "for p in range(0, len(predictors)+1):\n",
    "    print('Anzahl an Predictors:', p)\n",
    "    best_r2 = 0\n",
    "    best_predictors = ()\n",
    "    for combination in itertools.combinations(predictors, p):\n",
    "        X = MS(list(combination)).fit_transform(df)\n",
    "        results = sm.OLS(y,X, missing='drop').fit()\n",
    "        #print(summarize(results))\n",
    "        #print(\"Rsquared:\", results.rsquared)\n",
    "        if results.rsquared > best_r2:\n",
    "            best_r2 = results.rsquared\n",
    "            best_predictors = (combination)\n",
    "    print('Beste Kombination:', combination, 'mit R^2:', best_r2)"
   ]
  },
  {
   "cell_type": "markdown",
   "metadata": {},
   "source": [
    "This works for now, but 'Embarked' as a categorical value with 3 options is probably not implemented properly, since it only counts as one variable for my code, while it is implemented as two variables in the model. I will ignore that for now and see whether that is talked about later in the Book Chapter or in the Lab.\n",
    "\n",
    "### Using BIC, AIC and adjusted R^2\n",
    "\n",
    "Another problem with this is that the R^2 is measured on the training set instead of a test set, since I don't have a dedicated test set. Another problem is also that since the model all have different sizes, you actually can't really use R^2 (it will always be lower with more predictors). The solution for that is to another measure. When having implemented that, I can properly rely on the model error. Below, I have implemented AIC, BIC and the adjusted R^2.\n",
    "\n",
    "(Note: We use R^2 to choose the best model between all models with the same numbers of predictors. This is fine, since comparing R^2 between moelds of the same size makes sense.)"
   ]
  },
  {
   "cell_type": "code",
   "execution_count": null,
   "metadata": {},
   "outputs": [
    {
     "name": "stdout",
     "output_type": "stream",
     "text": [
      "Anzahl an Predictors: 0\n",
      "Beste Kombination: () mit R^2: 0\n",
      "Anzahl an Predictors: 1\n",
      "Beste Kombination: ('Embarked',) mit R^2: 0.2952307228626888\n",
      "Anzahl an Predictors: 2\n",
      "Beste Kombination: ('Fare', 'Embarked') mit R^2: 0.36768020891350406\n",
      "Anzahl an Predictors: 3\n",
      "Beste Kombination: ('Parch', 'Fare', 'Embarked') mit R^2: 0.38336856306416056\n",
      "Anzahl an Predictors: 4\n",
      "Beste Kombination: ('SibSp', 'Parch', 'Fare', 'Embarked') mit R^2: 0.39326065634846097\n",
      "Anzahl an Predictors: 5\n",
      "Beste Kombination: ('Age', 'SibSp', 'Parch', 'Fare', 'Embarked') mit R^2: 0.3974572876555986\n",
      "Anzahl an Predictors: 6\n",
      "Beste Kombination: ('SexNr', 'Age', 'SibSp', 'Parch', 'Fare', 'Embarked') mit R^2: 0.3978260472917734\n",
      "Anzahl an Predictors: 7\n",
      "Beste Kombination: ('Pclass', 'SexNr', 'Age', 'SibSp', 'Parch', 'Fare', 'Embarked') mit R^2: 0.39834629200884475\n"
     ]
    },
    {
     "data": {
      "image/png": "[encoded data removed]",
      "text/plain": [
       "<Figure size 640x480 with 4 Axes>"
      ]
     },
     "metadata": {},
     "output_type": "display_data"
    }
   ],
   "source": [
    "predictors = ['Pclass', 'SexNr', 'Age', 'SibSp', 'Parch', 'Fare', 'Embarked']\n",
    "\n",
    "rsquared = []\n",
    "rsquared_adj = []\n",
    "aic = []\n",
    "bic = []\n",
    "for p in range(0, len(predictors)+1):\n",
    "    print('Anzahl an Predictors:', p)\n",
    "    best_r2 = 0\n",
    "    best_predictors = ()\n",
    "    for combination in itertools.combinations(predictors, p):\n",
    "        X = MS(list(combination)).fit_transform(df)\n",
    "        results = sm.OLS(y,X, missing='drop').fit()\n",
    "        #print(summarize(results))\n",
    "        #print(\"Rsquared:\", results.rsquared)\n",
    "        if results.rsquared > best_r2:\n",
    "            best_r2 = results.rsquared\n",
    "            best_predictors = (combination)\n",
    "    print('Beste Kombination:', combination, 'mit R^2:', best_r2)\n",
    "    rsquared.append(best_r2)\n",
    "    rsquared_adj.append(results.rsquared_adj)\n",
    "    aic.append(results.aic)\n",
    "    bic.append(results.bic)\n",
    "\n",
    "y_results = [\"rsquared\", \"rsquared_adj\", \"aic\", \"bic\"]\n",
    "xcoord = [0,0,1,1]\n",
    "fig, axs = plt.subplots(2,2)\n",
    "for id, name in enumerate([rsquared, rsquared_adj, aic, bic]):\n",
    "    axs[xcoord[id], id%2].plot(range(0, len(predictors)+1), name)\n",
    "    axs[xcoord[id], id%2].set_title(y_results[id])\n",
    "plt.show()"
   ]
  },
  {
   "cell_type": "markdown",
   "metadata": {},
   "source": [
    "## Forward Stepwise Selection\n",
    "\n",
    "I'm keeping the implementation of BIC, AIC and "
   ]
  },
  {
   "cell_type": "code",
   "execution_count": null,
   "metadata": {},
   "outputs": [
    {
     "name": "stdout",
     "output_type": "stream",
     "text": [
      "Anzahl an Predictors: 0\n"
     ]
    },
    {
     "ename": "IndexError",
     "evalue": "tuple index out of range",
     "output_type": "error",
     "traceback": [
      "\u001b[1;31m---------------------------------------------------------------------------\u001b[0m",
      "\u001b[1;31mIndexError\u001b[0m                                Traceback (most recent call last)",
      "Cell \u001b[1;32mIn[34], line 23\u001b[0m\n\u001b[0;32m     21\u001b[0m         best_r2 \u001b[38;5;241m=\u001b[39m results\u001b[38;5;241m.\u001b[39mrsquared\n\u001b[0;32m     22\u001b[0m         best_predictors \u001b[38;5;241m=\u001b[39m (combination)\n\u001b[1;32m---> 23\u001b[0m dropping\u001b[38;5;241m.\u001b[39mappend(\u001b[43mcombination\u001b[49m\u001b[43m[\u001b[49m\u001b[38;5;241;43m-\u001b[39;49m\u001b[38;5;241;43m1\u001b[39;49m\u001b[43m]\u001b[49m)\n\u001b[0;32m     24\u001b[0m \u001b[38;5;28mprint\u001b[39m(\u001b[38;5;124m'\u001b[39m\u001b[38;5;124mBeste Kombination:\u001b[39m\u001b[38;5;124m'\u001b[39m, combination, \u001b[38;5;124m'\u001b[39m\u001b[38;5;124mmit R^2:\u001b[39m\u001b[38;5;124m'\u001b[39m, best_r2)\n\u001b[0;32m     25\u001b[0m rsquared\u001b[38;5;241m.\u001b[39mappend(best_r2)\n",
      "\u001b[1;31mIndexError\u001b[0m: tuple index out of range"
     ]
    }
   ],
   "source": [
    "predictors = ['Pclass', 'SexNr', 'Age', 'SibSp', 'Parch', 'Fare', 'Embarked']\n",
    "\n",
    "#dropping = []\n",
    "#curr_predictors = predictors\n",
    "\n",
    "rsquared = []\n",
    "rsquared_adj = []\n",
    "aic = []\n",
    "bic = []\n",
    "\n",
    "for p in range(0, len(predictors)+1):\n",
    "    print('Anzahl an Predictors:', p)\n",
    "    best_r2 = 0\n",
    "    best_predictors = ()\n",
    "    for combination in itertools.combinations([x for x in predictors], p):\n",
    "        X = MS(list(combination)).fit_transform(df)\n",
    "        results = sm.OLS(y,X, missing='drop').fit()\n",
    "        #print(summarize(results))\n",
    "        #print(\"Rsquared:\", results.rsquared)\n",
    "        if results.rsquared > best_r2:\n",
    "            best_r2 = results.rsquared\n",
    "            best_predictors = (combination)\n",
    "    #dropping.append(combination[-1])\n",
    "    print('Beste Kombination:', combination, 'mit R^2:', best_r2)\n",
    "    rsquared.append(best_r2)\n",
    "    rsquared_adj.append(results.rsquared_adj)\n",
    "    aic.append(results.aic)\n",
    "    bic.append(results.bic)\n",
    "\n",
    "#print(dropping)\n",
    "\n",
    "y_results = [\"rsquared\", \"rsquared_adj\", \"aic\", \"bic\"]\n",
    "xcoord = [0,0,1,1]\n",
    "fig, axs = plt.subplots(2,2)\n",
    "for id, name in enumerate([rsquared, rsquared_adj, aic, bic]):\n",
    "    axs[xcoord[id], id%2].plot(range(0, len(predictors)+1), name)\n",
    "    axs[xcoord[id], id%2].set_title(y_results[id])\n",
    "plt.show()"
   ]
  },
  {
   "cell_type": "markdown",
   "metadata": {},
   "source": [
    "## Backward Stepwise Selection"
   ]
  }
 ],
 "metadata": {
  "kernelspec": {
   "display_name": "Python 3",
   "language": "python",
   "name": "python3"
  },
  "language_info": {
   "codemirror_mode": {
    "name": "ipython",
    "version": 3
   },
   "file_extension": ".py",
   "mimetype": "text/x-python",
   "name": "python",
   "nbconvert_exporter": "python",
   "pygments_lexer": "ipython3",
   "version": "3.11.5"
  }
 },
 "nbformat": 4,
 "nbformat_minor": 2
}
